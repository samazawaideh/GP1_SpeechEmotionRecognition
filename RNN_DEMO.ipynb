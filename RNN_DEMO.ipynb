{
  "nbformat": 4,
  "nbformat_minor": 0,
  "metadata": {
    "colab": {
      "provenance": []
    },
    "kernelspec": {
      "name": "python3",
      "display_name": "Python 3"
    },
    "language_info": {
      "name": "python"
    }
  },
  "cells": [
    {
      "cell_type": "markdown",
      "source": [
        "# RNN Pilot Implementation DEMO"
      ],
      "metadata": {
        "id": "TsvZgqXDb1-Y"
      }
    },
    {
      "cell_type": "markdown",
      "source": [
        "# Importing libraries"
      ],
      "metadata": {
        "id": "XGuwOoibqTKd"
      }
    },
    {
      "cell_type": "markdown",
      "source": [
        "Mounting Google Drive to our Shared EmotionDetectionProject folder"
      ],
      "metadata": {
        "id": "JgSATprkqdcB"
      }
    },
    {
      "cell_type": "code",
      "source": [
        "from google.colab import drive\n",
        "drive.mount(\"/content/drive\")\n",
        "#audio_path=\"/content/drive/MyDrive/RAVDESS/archive/{}/\"\n",
        "audio_path=\"/content/drive/MyDrive/EmotionDetectionProject/Datasets/RAVDESS/{}/\""
      ],
      "metadata": {
        "id": "Ec7UZMIqo1n4",
        "colab": {
          "base_uri": "https://localhost:8080/"
        },
        "outputId": "88ad901e-6cbe-4e8a-8422-21ada58f0c67"
      },
      "execution_count": 10,
      "outputs": [
        {
          "output_type": "stream",
          "name": "stdout",
          "text": [
            "Drive already mounted at /content/drive; to attempt to forcibly remount, call drive.mount(\"/content/drive\", force_remount=True).\n"
          ]
        }
      ]
    },
    {
      "cell_type": "code",
      "source": [
        "!pip install python_speech_features"
      ],
      "metadata": {
        "colab": {
          "base_uri": "https://localhost:8080/"
        },
        "id": "BJ7KgigNccX2",
        "outputId": "3053801f-833c-47dc-b2b2-ed55245d43ce"
      },
      "execution_count": 3,
      "outputs": [
        {
          "output_type": "stream",
          "name": "stdout",
          "text": [
            "Looking in indexes: https://pypi.org/simple, https://us-python.pkg.dev/colab-wheels/public/simple/\n",
            "Collecting python_speech_features\n",
            "  Downloading python_speech_features-0.6.tar.gz (5.6 kB)\n",
            "  Preparing metadata (setup.py) ... \u001b[?25l\u001b[?25hdone\n",
            "Building wheels for collected packages: python_speech_features\n",
            "  Building wheel for python_speech_features (setup.py) ... \u001b[?25l\u001b[?25hdone\n",
            "  Created wheel for python_speech_features: filename=python_speech_features-0.6-py3-none-any.whl size=5889 sha256=2efd0f40fee7f39b80622f552300f80c136aaa9521878f1de9d89949be982f32\n",
            "  Stored in directory: /root/.cache/pip/wheels/5b/60/87/28af2605138deac93d162904df42b6fdda1dab9b8757c62aa3\n",
            "Successfully built python_speech_features\n",
            "Installing collected packages: python_speech_features\n",
            "Successfully installed python_speech_features-0.6\n"
          ]
        }
      ]
    },
    {
      "cell_type": "code",
      "execution_count": 11,
      "metadata": {
        "id": "SXkYEZOWol0J",
        "colab": {
          "base_uri": "https://localhost:8080/",
          "height": 35
        },
        "outputId": "58b1caeb-ab30-4fe8-db61-de842d591897"
      },
      "outputs": [
        {
          "output_type": "execute_result",
          "data": {
            "text/plain": [
              "'2.9.2'"
            ],
            "application/vnd.google.colaboratory.intrinsic+json": {
              "type": "string"
            }
          },
          "metadata": {},
          "execution_count": 11
        }
      ],
      "source": [
        "#Feature Extraction part\n",
        "import pandas as pd\n",
        "import numpy as np\n",
        "import os\n",
        "import librosa\n",
        "from python_speech_features import mfcc\n",
        "import xarray as xr\n",
        "\n",
        "#RNN part\n",
        "import matplotlib.pyplot as plt\n",
        "import tensorflow as tf\n",
        "from tensorflow import keras\n",
        "from tensorflow.keras import layers\n",
        "from sklearn.model_selection import train_test_split\n",
        "from keras.models import Sequential\n",
        "from keras.layers import LSTM, Dense, Dropout, Masking, Embedding, ConvLSTM2D,BatchNormalization\n",
        "from keras.layers.convolutional import Conv3D\n",
        "from sklearn.preprocessing import OneHotEncoder\n",
        "from keras.utils import plot_model\n",
        "\n",
        "tf.__version__"
      ]
    },
    {
      "cell_type": "markdown",
      "source": [
        "# Extracting names & labels of audio files"
      ],
      "metadata": {
        "id": "-z9rZ5P1ru91"
      }
    },
    {
      "cell_type": "code",
      "source": [
        "def classes():\n",
        "  labels=[]\n",
        "  for j in range(1,25):\n",
        "    path=audio_path.format(\"Actor_\"+\"{:0>2d}\".format(j))\n",
        "    for i in os.listdir(path):\n",
        "      lab=i.split('-')[2]\n",
        "      labels.append(lab)\n",
        "  return labels\n",
        "\n",
        "#Extracts the name of the samples\n",
        "def get_names():\n",
        "  names=[]\n",
        "  for i in range(1,25):\n",
        "    path=audio_path.format(\"Actor_\"+\"{:0>2d}\".format(i))\n",
        "    for j in os.listdir(path):\n",
        "      names.append(j)\n",
        "  return names"
      ],
      "metadata": {
        "id": "9mwDtR9Mo_y1"
      },
      "execution_count": 12,
      "outputs": []
    },
    {
      "cell_type": "code",
      "source": [
        "# extracting the names and labels\n",
        "names=get_names()\n",
        "labels=classes()"
      ],
      "metadata": {
        "id": "AO_IcUpXpJ2f"
      },
      "execution_count": 13,
      "outputs": []
    },
    {
      "cell_type": "markdown",
      "source": [
        "# Feature Extraction"
      ],
      "metadata": {
        "id": "A-7YIHJ0r4Vl"
      }
    },
    {
      "cell_type": "code",
      "source": [
        "def extract_all_features(audio_file,n,rate):\n",
        "  data=[]\n",
        "  X, sample_rate = librosa.load(audio_file,sr=rate, duration=2.5, offset=0.4)\n",
        "  rmse= librosa.feature.rms(X)[0]\n",
        "  spectral_centroid = librosa.feature.spectral_centroid(X)[0]\n",
        "  spectral_bandwidth= librosa.feature.spectral_bandwidth(X)[0]\n",
        "  spectral_rolloff = librosa.feature.spectral_rolloff(X)[0]\n",
        "  spectral_contrast = librosa.feature.spectral_contrast(X)[0]\n",
        "  spectral_flatness = librosa.feature.spectral_flatness(X)[0]\n",
        "  chroma_stft = librosa.feature.chroma_stft(X)[0]\n",
        "  chroma_cqt = librosa.feature.chroma_cqt(X)[0]\n",
        "  chroma_cens = librosa.feature.chroma_cens(X)[0]\n",
        "  zero_crossing = librosa.feature.zero_crossing_rate(X, frame_length=2048)[0]\n",
        "  MFCCs = librosa.feature.mfcc(y=X, sr=rate, n_mfcc=n)\n",
        "  tonnetz = librosa.feature.tonnetz(X)[0]\n",
        "  data.extend([rmse,spectral_centroid,spectral_bandwidth,spectral_rolloff,zero_crossing,tonnetz,chroma_stft,chroma_cqt,chroma_cens])\n",
        "  data.extend([i for i in MFCCs])\n",
        "  return data\n"
      ],
      "metadata": {
        "id": "pHpe5VStpLh7"
      },
      "execution_count": 14,
      "outputs": []
    },
    {
      "cell_type": "code",
      "source": [
        "# array=[]\n",
        "\n",
        "# def extract3d(g,n,sr,x):\n",
        "#   path=g\n",
        "#   actor=\"Actor_\"+\"{:0>2d}\".format(x)\n",
        "#   for i in os.listdir(g):\n",
        "#     l=extract_all_features(path+i,n,sr)\n",
        "#     array.append(l)\n",
        "\n",
        "# #Extracting \n",
        "# for i in range(1,25):\n",
        "#   extract3d(audio_path.format(\"Actor_\"+\"{:0>2d}\".format(i)),21,48000,i)\n"
      ],
      "metadata": {
        "id": "1aRfZaD0r91_",
        "colab": {
          "base_uri": "https://localhost:8080/",
          "height": 347
        },
        "outputId": "416f73ac-6167-4319-f8ed-bd33fefc6661"
      },
      "execution_count": 15,
      "outputs": [
        {
          "output_type": "error",
          "ename": "KeyboardInterrupt",
          "evalue": "ignored",
          "traceback": [
            "\u001b[0;31m---------------------------------------------------------------------------\u001b[0m",
            "\u001b[0;31mKeyboardInterrupt\u001b[0m                         Traceback (most recent call last)",
            "\u001b[0;32m<ipython-input-15-d3309d21079f>\u001b[0m in \u001b[0;36m<module>\u001b[0;34m\u001b[0m\n\u001b[1;32m     10\u001b[0m \u001b[0;31m#Extracting\u001b[0m\u001b[0;34m\u001b[0m\u001b[0;34m\u001b[0m\u001b[0;34m\u001b[0m\u001b[0m\n\u001b[1;32m     11\u001b[0m \u001b[0;32mfor\u001b[0m \u001b[0mi\u001b[0m \u001b[0;32min\u001b[0m \u001b[0mrange\u001b[0m\u001b[0;34m(\u001b[0m\u001b[0;36m1\u001b[0m\u001b[0;34m,\u001b[0m\u001b[0;36m25\u001b[0m\u001b[0;34m)\u001b[0m\u001b[0;34m:\u001b[0m\u001b[0;34m\u001b[0m\u001b[0;34m\u001b[0m\u001b[0m\n\u001b[0;32m---> 12\u001b[0;31m   \u001b[0mextract3d\u001b[0m\u001b[0;34m(\u001b[0m\u001b[0maudio_path\u001b[0m\u001b[0;34m.\u001b[0m\u001b[0mformat\u001b[0m\u001b[0;34m(\u001b[0m\u001b[0;34m\"Actor_\"\u001b[0m\u001b[0;34m+\u001b[0m\u001b[0;34m\"{:0>2d}\"\u001b[0m\u001b[0;34m.\u001b[0m\u001b[0mformat\u001b[0m\u001b[0;34m(\u001b[0m\u001b[0mi\u001b[0m\u001b[0;34m)\u001b[0m\u001b[0;34m)\u001b[0m\u001b[0;34m,\u001b[0m\u001b[0;36m21\u001b[0m\u001b[0;34m,\u001b[0m\u001b[0;36m48000\u001b[0m\u001b[0;34m,\u001b[0m\u001b[0mi\u001b[0m\u001b[0;34m)\u001b[0m\u001b[0;34m\u001b[0m\u001b[0;34m\u001b[0m\u001b[0m\n\u001b[0m",
            "\u001b[0;32m<ipython-input-15-d3309d21079f>\u001b[0m in \u001b[0;36mextract3d\u001b[0;34m(g, n, sr, x)\u001b[0m\n\u001b[1;32m      5\u001b[0m   \u001b[0mactor\u001b[0m\u001b[0;34m=\u001b[0m\u001b[0;34m\"Actor_\"\u001b[0m\u001b[0;34m+\u001b[0m\u001b[0;34m\"{:0>2d}\"\u001b[0m\u001b[0;34m.\u001b[0m\u001b[0mformat\u001b[0m\u001b[0;34m(\u001b[0m\u001b[0mx\u001b[0m\u001b[0;34m)\u001b[0m\u001b[0;34m\u001b[0m\u001b[0;34m\u001b[0m\u001b[0m\n\u001b[1;32m      6\u001b[0m   \u001b[0;32mfor\u001b[0m \u001b[0mi\u001b[0m \u001b[0;32min\u001b[0m \u001b[0mos\u001b[0m\u001b[0;34m.\u001b[0m\u001b[0mlistdir\u001b[0m\u001b[0;34m(\u001b[0m\u001b[0mg\u001b[0m\u001b[0;34m)\u001b[0m\u001b[0;34m:\u001b[0m\u001b[0;34m\u001b[0m\u001b[0;34m\u001b[0m\u001b[0m\n\u001b[0;32m----> 7\u001b[0;31m     \u001b[0ml\u001b[0m\u001b[0;34m=\u001b[0m\u001b[0mextract_all_features\u001b[0m\u001b[0;34m(\u001b[0m\u001b[0mpath\u001b[0m\u001b[0;34m+\u001b[0m\u001b[0mi\u001b[0m\u001b[0;34m,\u001b[0m\u001b[0mn\u001b[0m\u001b[0;34m,\u001b[0m\u001b[0msr\u001b[0m\u001b[0;34m)\u001b[0m\u001b[0;34m\u001b[0m\u001b[0;34m\u001b[0m\u001b[0m\n\u001b[0m\u001b[1;32m      8\u001b[0m     \u001b[0marray\u001b[0m\u001b[0;34m.\u001b[0m\u001b[0mappend\u001b[0m\u001b[0;34m(\u001b[0m\u001b[0ml\u001b[0m\u001b[0;34m)\u001b[0m\u001b[0;34m\u001b[0m\u001b[0;34m\u001b[0m\u001b[0m\n\u001b[1;32m      9\u001b[0m \u001b[0;34m\u001b[0m\u001b[0m\n",
            "\u001b[0;32m<ipython-input-14-5682705de778>\u001b[0m in \u001b[0;36mextract_all_features\u001b[0;34m(audio_file, n, rate)\u001b[0m\n\u001b[1;32m      1\u001b[0m \u001b[0;32mdef\u001b[0m \u001b[0mextract_all_features\u001b[0m\u001b[0;34m(\u001b[0m\u001b[0maudio_file\u001b[0m\u001b[0;34m,\u001b[0m\u001b[0mn\u001b[0m\u001b[0;34m,\u001b[0m\u001b[0mrate\u001b[0m\u001b[0;34m)\u001b[0m\u001b[0;34m:\u001b[0m\u001b[0;34m\u001b[0m\u001b[0;34m\u001b[0m\u001b[0m\n\u001b[1;32m      2\u001b[0m   \u001b[0mdata\u001b[0m\u001b[0;34m=\u001b[0m\u001b[0;34m[\u001b[0m\u001b[0;34m]\u001b[0m\u001b[0;34m\u001b[0m\u001b[0;34m\u001b[0m\u001b[0m\n\u001b[0;32m----> 3\u001b[0;31m   \u001b[0mX\u001b[0m\u001b[0;34m,\u001b[0m \u001b[0msample_rate\u001b[0m \u001b[0;34m=\u001b[0m \u001b[0mlibrosa\u001b[0m\u001b[0;34m.\u001b[0m\u001b[0mload\u001b[0m\u001b[0;34m(\u001b[0m\u001b[0maudio_file\u001b[0m\u001b[0;34m,\u001b[0m\u001b[0msr\u001b[0m\u001b[0;34m=\u001b[0m\u001b[0mrate\u001b[0m\u001b[0;34m,\u001b[0m \u001b[0mduration\u001b[0m\u001b[0;34m=\u001b[0m\u001b[0;36m2.5\u001b[0m\u001b[0;34m,\u001b[0m \u001b[0moffset\u001b[0m\u001b[0;34m=\u001b[0m\u001b[0;36m0.4\u001b[0m\u001b[0;34m)\u001b[0m\u001b[0;34m\u001b[0m\u001b[0;34m\u001b[0m\u001b[0m\n\u001b[0m\u001b[1;32m      4\u001b[0m   \u001b[0mrmse\u001b[0m\u001b[0;34m=\u001b[0m \u001b[0mlibrosa\u001b[0m\u001b[0;34m.\u001b[0m\u001b[0mfeature\u001b[0m\u001b[0;34m.\u001b[0m\u001b[0mrms\u001b[0m\u001b[0;34m(\u001b[0m\u001b[0mX\u001b[0m\u001b[0;34m)\u001b[0m\u001b[0;34m[\u001b[0m\u001b[0;36m0\u001b[0m\u001b[0;34m]\u001b[0m\u001b[0;34m\u001b[0m\u001b[0;34m\u001b[0m\u001b[0m\n\u001b[1;32m      5\u001b[0m   \u001b[0mspectral_centroid\u001b[0m \u001b[0;34m=\u001b[0m \u001b[0mlibrosa\u001b[0m\u001b[0;34m.\u001b[0m\u001b[0mfeature\u001b[0m\u001b[0;34m.\u001b[0m\u001b[0mspectral_centroid\u001b[0m\u001b[0;34m(\u001b[0m\u001b[0mX\u001b[0m\u001b[0;34m)\u001b[0m\u001b[0;34m[\u001b[0m\u001b[0;36m0\u001b[0m\u001b[0;34m]\u001b[0m\u001b[0;34m\u001b[0m\u001b[0;34m\u001b[0m\u001b[0m\n",
            "\u001b[0;32m/usr/local/lib/python3.8/dist-packages/librosa/core/audio.py\u001b[0m in \u001b[0;36mload\u001b[0;34m(path, sr, mono, offset, duration, dtype, res_type)\u001b[0m\n\u001b[1;32m    147\u001b[0m \u001b[0;34m\u001b[0m\u001b[0m\n\u001b[1;32m    148\u001b[0m     \u001b[0;32mtry\u001b[0m\u001b[0;34m:\u001b[0m\u001b[0;34m\u001b[0m\u001b[0;34m\u001b[0m\u001b[0m\n\u001b[0;32m--> 149\u001b[0;31m         \u001b[0;32mwith\u001b[0m \u001b[0msf\u001b[0m\u001b[0;34m.\u001b[0m\u001b[0mSoundFile\u001b[0m\u001b[0;34m(\u001b[0m\u001b[0mpath\u001b[0m\u001b[0;34m)\u001b[0m \u001b[0;32mas\u001b[0m \u001b[0msf_desc\u001b[0m\u001b[0;34m:\u001b[0m\u001b[0;34m\u001b[0m\u001b[0;34m\u001b[0m\u001b[0m\n\u001b[0m\u001b[1;32m    150\u001b[0m             \u001b[0msr_native\u001b[0m \u001b[0;34m=\u001b[0m \u001b[0msf_desc\u001b[0m\u001b[0;34m.\u001b[0m\u001b[0msamplerate\u001b[0m\u001b[0;34m\u001b[0m\u001b[0;34m\u001b[0m\u001b[0m\n\u001b[1;32m    151\u001b[0m             \u001b[0;32mif\u001b[0m \u001b[0moffset\u001b[0m\u001b[0;34m:\u001b[0m\u001b[0;34m\u001b[0m\u001b[0;34m\u001b[0m\u001b[0m\n",
            "\u001b[0;32m/usr/local/lib/python3.8/dist-packages/soundfile.py\u001b[0m in \u001b[0;36m__init__\u001b[0;34m(self, file, mode, samplerate, channels, subtype, endian, format, closefd)\u001b[0m\n\u001b[1;32m    653\u001b[0m         self._info = _create_info_struct(file, mode, samplerate, channels,\n\u001b[1;32m    654\u001b[0m                                          format, subtype, endian)\n\u001b[0;32m--> 655\u001b[0;31m         \u001b[0mself\u001b[0m\u001b[0;34m.\u001b[0m\u001b[0m_file\u001b[0m \u001b[0;34m=\u001b[0m \u001b[0mself\u001b[0m\u001b[0;34m.\u001b[0m\u001b[0m_open\u001b[0m\u001b[0;34m(\u001b[0m\u001b[0mfile\u001b[0m\u001b[0;34m,\u001b[0m \u001b[0mmode_int\u001b[0m\u001b[0;34m,\u001b[0m \u001b[0mclosefd\u001b[0m\u001b[0;34m)\u001b[0m\u001b[0;34m\u001b[0m\u001b[0;34m\u001b[0m\u001b[0m\n\u001b[0m\u001b[1;32m    656\u001b[0m         \u001b[0;32mif\u001b[0m \u001b[0mset\u001b[0m\u001b[0;34m(\u001b[0m\u001b[0mmode\u001b[0m\u001b[0;34m)\u001b[0m\u001b[0;34m.\u001b[0m\u001b[0missuperset\u001b[0m\u001b[0;34m(\u001b[0m\u001b[0;34m'r+'\u001b[0m\u001b[0;34m)\u001b[0m \u001b[0;32mand\u001b[0m \u001b[0mself\u001b[0m\u001b[0;34m.\u001b[0m\u001b[0mseekable\u001b[0m\u001b[0;34m(\u001b[0m\u001b[0;34m)\u001b[0m\u001b[0;34m:\u001b[0m\u001b[0;34m\u001b[0m\u001b[0;34m\u001b[0m\u001b[0m\n\u001b[1;32m    657\u001b[0m             \u001b[0;31m# Move write position to 0 (like in Python file objects)\u001b[0m\u001b[0;34m\u001b[0m\u001b[0;34m\u001b[0m\u001b[0;34m\u001b[0m\u001b[0m\n",
            "\u001b[0;32m/usr/local/lib/python3.8/dist-packages/soundfile.py\u001b[0m in \u001b[0;36m_open\u001b[0;34m(self, file, mode_int, closefd)\u001b[0m\n\u001b[1;32m   1200\u001b[0m                 \u001b[0;32melse\u001b[0m\u001b[0;34m:\u001b[0m\u001b[0;34m\u001b[0m\u001b[0;34m\u001b[0m\u001b[0m\n\u001b[1;32m   1201\u001b[0m                     \u001b[0mfile\u001b[0m \u001b[0;34m=\u001b[0m \u001b[0mfile\u001b[0m\u001b[0;34m.\u001b[0m\u001b[0mencode\u001b[0m\u001b[0;34m(\u001b[0m\u001b[0m_sys\u001b[0m\u001b[0;34m.\u001b[0m\u001b[0mgetfilesystemencoding\u001b[0m\u001b[0;34m(\u001b[0m\u001b[0;34m)\u001b[0m\u001b[0;34m)\u001b[0m\u001b[0;34m\u001b[0m\u001b[0;34m\u001b[0m\u001b[0m\n\u001b[0;32m-> 1202\u001b[0;31m             \u001b[0mfile_ptr\u001b[0m \u001b[0;34m=\u001b[0m \u001b[0mopenfunction\u001b[0m\u001b[0;34m(\u001b[0m\u001b[0mfile\u001b[0m\u001b[0;34m,\u001b[0m \u001b[0mmode_int\u001b[0m\u001b[0;34m,\u001b[0m \u001b[0mself\u001b[0m\u001b[0;34m.\u001b[0m\u001b[0m_info\u001b[0m\u001b[0;34m)\u001b[0m\u001b[0;34m\u001b[0m\u001b[0;34m\u001b[0m\u001b[0m\n\u001b[0m\u001b[1;32m   1203\u001b[0m         \u001b[0;32melif\u001b[0m \u001b[0misinstance\u001b[0m\u001b[0;34m(\u001b[0m\u001b[0mfile\u001b[0m\u001b[0;34m,\u001b[0m \u001b[0mint\u001b[0m\u001b[0;34m)\u001b[0m\u001b[0;34m:\u001b[0m\u001b[0;34m\u001b[0m\u001b[0;34m\u001b[0m\u001b[0m\n\u001b[1;32m   1204\u001b[0m             \u001b[0mfile_ptr\u001b[0m \u001b[0;34m=\u001b[0m \u001b[0m_snd\u001b[0m\u001b[0;34m.\u001b[0m\u001b[0msf_open_fd\u001b[0m\u001b[0;34m(\u001b[0m\u001b[0mfile\u001b[0m\u001b[0;34m,\u001b[0m \u001b[0mmode_int\u001b[0m\u001b[0;34m,\u001b[0m \u001b[0mself\u001b[0m\u001b[0;34m.\u001b[0m\u001b[0m_info\u001b[0m\u001b[0;34m,\u001b[0m \u001b[0mclosefd\u001b[0m\u001b[0;34m)\u001b[0m\u001b[0;34m\u001b[0m\u001b[0;34m\u001b[0m\u001b[0m\n",
            "\u001b[0;31mKeyboardInterrupt\u001b[0m: "
          ]
        }
      ]
    },
    {
      "cell_type": "code",
      "source": [
        "features=[\"rmse\",\"spectral_centroid\",\"spectral_bandwidth\",\"spectral_rolloff\",\"zero_crossing\",\"tonnetz\",\"chroma_stft\",\"chroma_cqt\",\"chroma_cens\"]\n",
        "features.extend([\"MFCC\"+str(i+1) for i in range(21)])"
      ],
      "metadata": {
        "id": "C6bYeSGw2Hzb"
      },
      "execution_count": 16,
      "outputs": []
    },
    {
      "cell_type": "code",
      "source": [
        "# double checking the dimensions\n",
        "print(len(array),len(array[0]),len(array[0][0])) "
      ],
      "metadata": {
        "id": "V9hKjaQN2K2V",
        "colab": {
          "base_uri": "https://localhost:8080/"
        },
        "outputId": "6b8ff1ae-0df2-485e-8cc6-e896f663f134"
      },
      "execution_count": 17,
      "outputs": [
        {
          "output_type": "stream",
          "name": "stdout",
          "text": [
            "980 30 235\n"
          ]
        }
      ]
    },
    {
      "cell_type": "code",
      "source": [
        "# data = xr.DataArray(array,coords={'Sample': names,'Feature': features,'Values': range(235)},dims=('Sample', 'Feature', 'Values'))\n",
        "# print(\"Audio File: \",names[0], \"\\nClass is: \", labels[0])\n",
        "# data[0]"
      ],
      "metadata": {
        "id": "J5Xv1PZY2MZv",
        "colab": {
          "base_uri": "https://localhost:8080/",
          "height": 347
        },
        "outputId": "1bca86aa-9476-424f-f320-5ade09070105"
      },
      "execution_count": 18,
      "outputs": [
        {
          "output_type": "error",
          "ename": "ValueError",
          "evalue": "ignored",
          "traceback": [
            "\u001b[0;31m---------------------------------------------------------------------------\u001b[0m",
            "\u001b[0;31mValueError\u001b[0m                                Traceback (most recent call last)",
            "\u001b[0;32m<ipython-input-18-c0f9eac68117>\u001b[0m in \u001b[0;36m<module>\u001b[0;34m\u001b[0m\n\u001b[0;32m----> 1\u001b[0;31m \u001b[0mdata\u001b[0m \u001b[0;34m=\u001b[0m \u001b[0mxr\u001b[0m\u001b[0;34m.\u001b[0m\u001b[0mDataArray\u001b[0m\u001b[0;34m(\u001b[0m\u001b[0marray\u001b[0m\u001b[0;34m,\u001b[0m\u001b[0mcoords\u001b[0m\u001b[0;34m=\u001b[0m\u001b[0;34m{\u001b[0m\u001b[0;34m'Sample'\u001b[0m\u001b[0;34m:\u001b[0m \u001b[0mnames\u001b[0m\u001b[0;34m,\u001b[0m\u001b[0;34m'Feature'\u001b[0m\u001b[0;34m:\u001b[0m \u001b[0mfeatures\u001b[0m\u001b[0;34m,\u001b[0m\u001b[0;34m'Values'\u001b[0m\u001b[0;34m:\u001b[0m \u001b[0mrange\u001b[0m\u001b[0;34m(\u001b[0m\u001b[0;36m235\u001b[0m\u001b[0;34m)\u001b[0m\u001b[0;34m}\u001b[0m\u001b[0;34m,\u001b[0m\u001b[0mdims\u001b[0m\u001b[0;34m=\u001b[0m\u001b[0;34m(\u001b[0m\u001b[0;34m'Sample'\u001b[0m\u001b[0;34m,\u001b[0m \u001b[0;34m'Feature'\u001b[0m\u001b[0;34m,\u001b[0m \u001b[0;34m'Values'\u001b[0m\u001b[0;34m)\u001b[0m\u001b[0;34m)\u001b[0m\u001b[0;34m\u001b[0m\u001b[0;34m\u001b[0m\u001b[0m\n\u001b[0m\u001b[1;32m      2\u001b[0m \u001b[0mprint\u001b[0m\u001b[0;34m(\u001b[0m\u001b[0;34m\"Audio File: \"\u001b[0m\u001b[0;34m,\u001b[0m\u001b[0mnames\u001b[0m\u001b[0;34m[\u001b[0m\u001b[0;36m0\u001b[0m\u001b[0;34m]\u001b[0m\u001b[0;34m,\u001b[0m \u001b[0;34m\"\\nClass is: \"\u001b[0m\u001b[0;34m,\u001b[0m \u001b[0mlabels\u001b[0m\u001b[0;34m[\u001b[0m\u001b[0;36m0\u001b[0m\u001b[0;34m]\u001b[0m\u001b[0;34m)\u001b[0m\u001b[0;34m\u001b[0m\u001b[0;34m\u001b[0m\u001b[0m\n\u001b[1;32m      3\u001b[0m \u001b[0mdata\u001b[0m\u001b[0;34m[\u001b[0m\u001b[0;36m0\u001b[0m\u001b[0;34m]\u001b[0m\u001b[0;34m\u001b[0m\u001b[0;34m\u001b[0m\u001b[0m\n",
            "\u001b[0;32m/usr/local/lib/python3.8/dist-packages/xarray/core/dataarray.py\u001b[0m in \u001b[0;36m__init__\u001b[0;34m(self, data, coords, dims, name, attrs, indexes, fastpath)\u001b[0m\n\u001b[1;32m    417\u001b[0m             \u001b[0mdata\u001b[0m \u001b[0;34m=\u001b[0m \u001b[0m_check_data_shape\u001b[0m\u001b[0;34m(\u001b[0m\u001b[0mdata\u001b[0m\u001b[0;34m,\u001b[0m \u001b[0mcoords\u001b[0m\u001b[0;34m,\u001b[0m \u001b[0mdims\u001b[0m\u001b[0;34m)\u001b[0m\u001b[0;34m\u001b[0m\u001b[0;34m\u001b[0m\u001b[0m\n\u001b[1;32m    418\u001b[0m             \u001b[0mdata\u001b[0m \u001b[0;34m=\u001b[0m \u001b[0mas_compatible_data\u001b[0m\u001b[0;34m(\u001b[0m\u001b[0mdata\u001b[0m\u001b[0;34m)\u001b[0m\u001b[0;34m\u001b[0m\u001b[0;34m\u001b[0m\u001b[0m\n\u001b[0;32m--> 419\u001b[0;31m             \u001b[0mcoords\u001b[0m\u001b[0;34m,\u001b[0m \u001b[0mdims\u001b[0m \u001b[0;34m=\u001b[0m \u001b[0m_infer_coords_and_dims\u001b[0m\u001b[0;34m(\u001b[0m\u001b[0mdata\u001b[0m\u001b[0;34m.\u001b[0m\u001b[0mshape\u001b[0m\u001b[0;34m,\u001b[0m \u001b[0mcoords\u001b[0m\u001b[0;34m,\u001b[0m \u001b[0mdims\u001b[0m\u001b[0;34m)\u001b[0m\u001b[0;34m\u001b[0m\u001b[0;34m\u001b[0m\u001b[0m\n\u001b[0m\u001b[1;32m    420\u001b[0m             \u001b[0mvariable\u001b[0m \u001b[0;34m=\u001b[0m \u001b[0mVariable\u001b[0m\u001b[0;34m(\u001b[0m\u001b[0mdims\u001b[0m\u001b[0;34m,\u001b[0m \u001b[0mdata\u001b[0m\u001b[0;34m,\u001b[0m \u001b[0mattrs\u001b[0m\u001b[0;34m,\u001b[0m \u001b[0mfastpath\u001b[0m\u001b[0;34m=\u001b[0m\u001b[0;32mTrue\u001b[0m\u001b[0;34m)\u001b[0m\u001b[0;34m\u001b[0m\u001b[0;34m\u001b[0m\u001b[0m\n\u001b[1;32m    421\u001b[0m             \u001b[0mindexes\u001b[0m\u001b[0;34m,\u001b[0m \u001b[0mcoords\u001b[0m \u001b[0;34m=\u001b[0m \u001b[0m_create_indexes_from_coords\u001b[0m\u001b[0;34m(\u001b[0m\u001b[0mcoords\u001b[0m\u001b[0;34m)\u001b[0m\u001b[0;34m\u001b[0m\u001b[0;34m\u001b[0m\u001b[0m\n",
            "\u001b[0;32m/usr/local/lib/python3.8/dist-packages/xarray/core/dataarray.py\u001b[0m in \u001b[0;36m_infer_coords_and_dims\u001b[0;34m(shape, coords, dims)\u001b[0m\n\u001b[1;32m    162\u001b[0m         \u001b[0;32mfor\u001b[0m \u001b[0md\u001b[0m\u001b[0;34m,\u001b[0m \u001b[0ms\u001b[0m \u001b[0;32min\u001b[0m \u001b[0mzip\u001b[0m\u001b[0;34m(\u001b[0m\u001b[0mv\u001b[0m\u001b[0;34m.\u001b[0m\u001b[0mdims\u001b[0m\u001b[0;34m,\u001b[0m \u001b[0mv\u001b[0m\u001b[0;34m.\u001b[0m\u001b[0mshape\u001b[0m\u001b[0;34m)\u001b[0m\u001b[0;34m:\u001b[0m\u001b[0;34m\u001b[0m\u001b[0;34m\u001b[0m\u001b[0m\n\u001b[1;32m    163\u001b[0m             \u001b[0;32mif\u001b[0m \u001b[0ms\u001b[0m \u001b[0;34m!=\u001b[0m \u001b[0msizes\u001b[0m\u001b[0;34m[\u001b[0m\u001b[0md\u001b[0m\u001b[0;34m]\u001b[0m\u001b[0;34m:\u001b[0m\u001b[0;34m\u001b[0m\u001b[0;34m\u001b[0m\u001b[0m\n\u001b[0;32m--> 164\u001b[0;31m                 raise ValueError(\n\u001b[0m\u001b[1;32m    165\u001b[0m                     \u001b[0;34mf\"conflicting sizes for dimension {d!r}: \"\u001b[0m\u001b[0;34m\u001b[0m\u001b[0;34m\u001b[0m\u001b[0m\n\u001b[1;32m    166\u001b[0m                     \u001b[0;34mf\"length {sizes[d]} on the data but length {s} on \"\u001b[0m\u001b[0;34m\u001b[0m\u001b[0;34m\u001b[0m\u001b[0m\n",
            "\u001b[0;31mValueError\u001b[0m: conflicting sizes for dimension 'Sample': length 980 on the data but length 1440 on coordinate 'Sample'"
          ]
        }
      ]
    },
    {
      "cell_type": "code",
      "source": [
        "# np.save(\"3D-All_Features_Data-np\",data)"
      ],
      "metadata": {
        "id": "7hacN3DpQaQa"
      },
      "execution_count": null,
      "outputs": []
    },
    {
      "cell_type": "code",
      "source": [
        "# data.to_netcdf(\"3D-All_Features_Data.nc\")"
      ],
      "metadata": {
        "id": "Uidt2Bk4QeK0"
      },
      "execution_count": null,
      "outputs": []
    },
    {
      "cell_type": "markdown",
      "source": [
        "# Loading 3D array and labels\n"
      ],
      "metadata": {
        "id": "H8OVWdPxR7DH"
      }
    },
    {
      "cell_type": "code",
      "source": [
        "data = np.load('/content/drive/MyDrive/EmotionDetectionProject/Datasets/3D-Data-np.npy')"
      ],
      "metadata": {
        "id": "-0lGLZPVSWAr"
      },
      "execution_count": 19,
      "outputs": []
    },
    {
      "cell_type": "code",
      "source": [
        "labels= np.load('/content/drive/MyDrive/EmotionDetectionProject/Datasets/3D-Data-Labels.npy')"
      ],
      "metadata": {
        "id": "SFt3q6TXSjk2"
      },
      "execution_count": 20,
      "outputs": []
    },
    {
      "cell_type": "markdown",
      "source": [
        "Train test split"
      ],
      "metadata": {
        "id": "Z2nnkuGHS0ia"
      }
    },
    {
      "cell_type": "code",
      "source": [
        "X_train = data[:1000, :, :]\n",
        "X_test = data[1000:, :, :]"
      ],
      "metadata": {
        "id": "1GJWvjk8Spme"
      },
      "execution_count": 21,
      "outputs": []
    },
    {
      "cell_type": "code",
      "source": [
        "y_train= labels[:1000]\n",
        "y_test= labels[1000:]"
      ],
      "metadata": {
        "id": "A6Zhq9V2SrIi"
      },
      "execution_count": 22,
      "outputs": []
    },
    {
      "cell_type": "code",
      "source": [
        "X_train=np.reshape(X_train,(1000,235,20))\n",
        "X_test=np.reshape(X_test,(440,235,20))"
      ],
      "metadata": {
        "id": "zpUHsXYpSsgz"
      },
      "execution_count": 23,
      "outputs": []
    },
    {
      "cell_type": "code",
      "source": [
        "print(X_train.shape)\n",
        "print(X_test.shape)\n",
        "print(y_train.shape)\n",
        "print(y_test.shape)"
      ],
      "metadata": {
        "id": "2OVRUp7xSvCr",
        "colab": {
          "base_uri": "https://localhost:8080/"
        },
        "outputId": "aaf74eb8-aa0e-4ed1-b909-a2f52bcf61e9"
      },
      "execution_count": 24,
      "outputs": [
        {
          "output_type": "stream",
          "name": "stdout",
          "text": [
            "(1000, 235, 20)\n",
            "(440, 235, 20)\n",
            "(1000,)\n",
            "(440,)\n"
          ]
        }
      ]
    },
    {
      "cell_type": "code",
      "source": [
        "y_train=np.asarray([int(i) for i in y_train ])\n",
        "y_test=np.asarray([int(i) for i in y_test])\n",
        "y_train = y_train.reshape(-1, 1)\n",
        "y_test= y_test.reshape(-1, 1)\n"
      ],
      "metadata": {
        "id": "ilvupAc-Sv54"
      },
      "execution_count": 25,
      "outputs": []
    },
    {
      "cell_type": "markdown",
      "source": [
        "One hot encoding the labels"
      ],
      "metadata": {
        "id": "RnqrT3ReTB8O"
      }
    },
    {
      "cell_type": "code",
      "source": [
        "enc = OneHotEncoder()\n",
        "y_train = enc.fit_transform(y_train)\n",
        "y_test = enc.fit_transform(y_test)\n",
        "y_train = y_train.toarray()\n",
        "y_test = y_test.toarray()"
      ],
      "metadata": {
        "id": "EELTociRTBY5"
      },
      "execution_count": 26,
      "outputs": []
    },
    {
      "cell_type": "markdown",
      "source": [
        "# LSTM Implementation"
      ],
      "metadata": {
        "id": "DtwxBXVbTbme"
      }
    },
    {
      "cell_type": "code",
      "source": [
        "model = Sequential()\n",
        "\n",
        "model.add(layers.Input(shape = (235, 20)))\n",
        "\n",
        "# Recurrent layer\n",
        "model.add(LSTM(64, dropout=0.1, recurrent_dropout=0.1))\n",
        "\n",
        "# Fully connected layers\n",
        "model.add(Dense(64, activation='relu'))\n",
        "model.add(Dense(64, activation='relu'))\n",
        "\n",
        "# Dropout for regularization\n",
        "model.add(Dropout(0.5))\n",
        "model.add(Dense(64, activation='relu'))\n",
        "\n",
        "# Output layer\n",
        "model.add(Dense(8, activation='softmax'))\n",
        "\n",
        "print(model.summary())\n",
        "plot_model(model, to_file='model_plot.png', show_shapes=True, show_layer_names=True)"
      ],
      "metadata": {
        "id": "XpmC2ZeVTjBI",
        "colab": {
          "base_uri": "https://localhost:8080/",
          "height": 1000
        },
        "outputId": "07587736-3851-4985-9001-bd26be33dd2b"
      },
      "execution_count": 27,
      "outputs": [
        {
          "output_type": "stream",
          "name": "stdout",
          "text": [
            "Model: \"sequential\"\n",
            "_________________________________________________________________\n",
            " Layer (type)                Output Shape              Param #   \n",
            "=================================================================\n",
            " lstm (LSTM)                 (None, 64)                21760     \n",
            "                                                                 \n",
            " dense (Dense)               (None, 64)                4160      \n",
            "                                                                 \n",
            " dense_1 (Dense)             (None, 64)                4160      \n",
            "                                                                 \n",
            " dropout (Dropout)           (None, 64)                0         \n",
            "                                                                 \n",
            " dense_2 (Dense)             (None, 64)                4160      \n",
            "                                                                 \n",
            " dense_3 (Dense)             (None, 8)                 520       \n",
            "                                                                 \n",
            "=================================================================\n",
            "Total params: 34,760\n",
            "Trainable params: 34,760\n",
            "Non-trainable params: 0\n",
            "_________________________________________________________________\n",
            "None\n"
          ]
        },
        {
          "output_type": "execute_result",
          "data": {
            "image/png": "[encoded data removed]",
            "text/plain": [
              "<IPython.core.display.Image object>"
            ]
          },
          "metadata": {},
          "execution_count": 27
        }
      ]
    },
    {
      "cell_type": "code",
      "source": [
        "# Compile the model\n",
        "model.compile(optimizer='adam', loss='categorical_crossentropy', metrics=['accuracy'])\n"
      ],
      "metadata": {
        "id": "klKMrBl8TqXp"
      },
      "execution_count": 28,
      "outputs": []
    },
    {
      "cell_type": "code",
      "source": [
        "history = model.fit(X_train, y_train, epochs=24, verbose=2)"
      ],
      "metadata": {
        "id": "LcMXfRCrTsU_",
        "colab": {
          "base_uri": "https://localhost:8080/"
        },
        "outputId": "07cbbfa9-0526-44f4-97fe-f0f803a8fc88"
      },
      "execution_count": 29,
      "outputs": [
        {
          "output_type": "stream",
          "name": "stdout",
          "text": [
            "Epoch 1/24\n",
            "32/32 - 12s - loss: 2.0907 - accuracy: 0.1330 - 12s/epoch - 384ms/step\n",
            "Epoch 2/24\n",
            "32/32 - 8s - loss: 2.0648 - accuracy: 0.1570 - 8s/epoch - 251ms/step\n",
            "Epoch 3/24\n",
            "32/32 - 8s - loss: 2.0623 - accuracy: 0.1490 - 8s/epoch - 246ms/step\n",
            "Epoch 4/24\n",
            "32/32 - 8s - loss: 2.0553 - accuracy: 0.1790 - 8s/epoch - 245ms/step\n",
            "Epoch 5/24\n",
            "32/32 - 8s - loss: 2.0504 - accuracy: 0.1690 - 8s/epoch - 247ms/step\n",
            "Epoch 6/24\n",
            "32/32 - 12s - loss: 2.0327 - accuracy: 0.2030 - 12s/epoch - 378ms/step\n",
            "Epoch 7/24\n",
            "32/32 - 8s - loss: 2.0247 - accuracy: 0.1840 - 8s/epoch - 250ms/step\n",
            "Epoch 8/24\n",
            "32/32 - 8s - loss: 2.0098 - accuracy: 0.2020 - 8s/epoch - 249ms/step\n",
            "Epoch 9/24\n",
            "32/32 - 8s - loss: 1.9904 - accuracy: 0.2360 - 8s/epoch - 252ms/step\n",
            "Epoch 10/24\n",
            "32/32 - 8s - loss: 1.9707 - accuracy: 0.2250 - 8s/epoch - 255ms/step\n",
            "Epoch 11/24\n",
            "32/32 - 10s - loss: 1.9540 - accuracy: 0.2390 - 10s/epoch - 316ms/step\n",
            "Epoch 12/24\n",
            "32/32 - 8s - loss: 1.9243 - accuracy: 0.2700 - 8s/epoch - 251ms/step\n",
            "Epoch 13/24\n",
            "32/32 - 8s - loss: 1.9094 - accuracy: 0.2690 - 8s/epoch - 253ms/step\n",
            "Epoch 14/24\n",
            "32/32 - 8s - loss: 1.8810 - accuracy: 0.2890 - 8s/epoch - 257ms/step\n",
            "Epoch 15/24\n",
            "32/32 - 8s - loss: 1.8407 - accuracy: 0.2880 - 8s/epoch - 249ms/step\n",
            "Epoch 16/24\n",
            "32/32 - 8s - loss: 1.7937 - accuracy: 0.3190 - 8s/epoch - 249ms/step\n",
            "Epoch 17/24\n",
            "32/32 - 8s - loss: 1.7599 - accuracy: 0.3240 - 8s/epoch - 249ms/step\n",
            "Epoch 18/24\n",
            "32/32 - 8s - loss: 1.7439 - accuracy: 0.3460 - 8s/epoch - 259ms/step\n",
            "Epoch 19/24\n",
            "32/32 - 8s - loss: 1.7194 - accuracy: 0.3580 - 8s/epoch - 262ms/step\n",
            "Epoch 20/24\n",
            "32/32 - 8s - loss: 1.6919 - accuracy: 0.3870 - 8s/epoch - 251ms/step\n",
            "Epoch 21/24\n",
            "32/32 - 8s - loss: 1.6036 - accuracy: 0.4070 - 8s/epoch - 247ms/step\n",
            "Epoch 22/24\n",
            "32/32 - 8s - loss: 1.6203 - accuracy: 0.4150 - 8s/epoch - 246ms/step\n",
            "Epoch 23/24\n",
            "32/32 - 8s - loss: 1.6091 - accuracy: 0.3930 - 8s/epoch - 248ms/step\n",
            "Epoch 24/24\n",
            "32/32 - 8s - loss: 1.5113 - accuracy: 0.4420 - 8s/epoch - 247ms/step\n"
          ]
        }
      ]
    },
    {
      "cell_type": "code",
      "source": [
        "results = model.evaluate(X_test, y_test, batch_size=1)\n",
        "print(\"test loss, test acc:\", results)"
      ],
      "metadata": {
        "id": "Mmfqki6ZUvCm",
        "colab": {
          "base_uri": "https://localhost:8080/"
        },
        "outputId": "57574dc1-ce26-4262-8b70-ad5ecf5969a4"
      },
      "execution_count": 30,
      "outputs": [
        {
          "output_type": "stream",
          "name": "stdout",
          "text": [
            "440/440 [==============================] - 11s 24ms/step - loss: 2.6270 - accuracy: 0.1227\n",
            "test loss, test acc: [2.627025842666626, 0.12272727489471436]\n"
          ]
        }
      ]
    }
  ]
}